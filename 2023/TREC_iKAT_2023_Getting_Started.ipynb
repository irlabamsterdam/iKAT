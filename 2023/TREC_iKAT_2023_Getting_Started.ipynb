{
  "nbformat": 4,
  "nbformat_minor": 0,
  "metadata": {
    "colab": {
      "provenance": []
    },
    "kernelspec": {
      "name": "python3",
      "display_name": "Python 3"
    },
    "language_info": {
      "name": "python"
    }
  },
  "cells": [
    {
      "cell_type": "markdown",
      "source": [
        "# Introduction\n"
      ],
      "metadata": {
        "id": "HpZ-0OvGAkt3"
      }
    },
    {
      "cell_type": "markdown",
      "source": [
        "## Overview\n",
        "The [TREC Interactive Knowledge Assistance Track](https://www.trecikat.com/) (iKAT) builds on the experience of four successful years of TREC Conversational Assistance Track (CAsT), where the key focus of iKAT is on researching and developing collaborative information seeking conversational agents which can tailor and personalize their response based on what they learn about and from the user.\n",
        "\n",
        "The fourth year of CAsT aimed to add more conversational elements to the interaction streams, by introducing mixed initiatives (clarifications, and suggestions) to create multi-path, multi-turn conversations for each topic. TREC iKAT evolves CAsT into a new track to signal this new trajectory. iKAT aims to focus on supporting multi-path, multi-turn, multi-perspective conversations, i.e., for a given topic, the direction and the conversation that evolves depends not only on the prior responses but also on the user (and their background/perspective/context/etc). As different personas undertake various topics, systems need to build and develop a picture of who the user is, in order to best address their information needs. Put another way, iKAT focuses on system understanding of user knowledge and information needs in accordance to the available context.\n"
      ],
      "metadata": {
        "id": "mAZhesF5A5zB"
      }
    },
    {
      "cell_type": "markdown",
      "source": [
        "## Objective\n",
        "To help you get started, we (the iKAT organizers) have put together this guide. In this demo, we'll explore and build the components of a simple iKAT system. These components include:\n",
        "\n",
        "- Query Rewriter\n",
        "- Passage Retriever, and\n",
        "- Response Generator"
      ],
      "metadata": {
        "id": "SWIZF6KkA91C"
      }
    },
    {
      "cell_type": "markdown",
      "source": [
        "## System Architecture\n",
        "\n",
        "<center>\n",
        "<img src=\"https://drive.google.com/uc?export=view&id=1iYVORhPemdFd6yR2S_0EP2L8l0K_nBP3\n",
        "\" width=\"85%\"/>\n",
        "</center>\n",
        "\n",
        "The diagram above shows how the components of our system interact.\n",
        "\n",
        "Given a query, conversation context, and the PTKB of the user, our system's **Query Rewriter** reformulates the query to resolve ambiguity. Next, the **Passage Retriever** uses the reformulated query to retrieve the top-K candidate passages from an index. Finally, the **Response Generator** uses the top-N of the K retrieved passages to generate a coherant response. The output of our system is a response along with the provenance relevant passages used to construct the response for the input query, based on the conversation context.\n"
      ],
      "metadata": {
        "id": "NOOu8Z6iAnqO"
      }
    },
    {
      "cell_type": "markdown",
      "source": [
        "# Setup\n",
        "\n"
      ],
      "metadata": {
        "id": "5GHoKprzcSj0"
      }
    },
    {
      "cell_type": "markdown",
      "source": [
        "Before putting our system together, let's download the topics and the demo collection.\n",
        "\n"
      ],
      "metadata": {
        "id": "CkhFetCPAyV1"
      }
    },
    {
      "cell_type": "markdown",
      "source": [
        "## TREC iKAT 2023 Simple English Wikipedia Passage Collection\n"
      ],
      "metadata": {
        "id": "-JRXzxAgBIrg"
      }
    },
    {
      "cell_type": "markdown",
      "source": [
        "Downloading and processing the entire TREC iKAT 2023 ClueWeb22-B passage collection is not possible on Colab. Moreover, it requires a licenece to use. For this demo, we will use [Simple English Wikipedia](https://simple.wikipedia.org/wiki/Main_Page). Compared to the full English wikipedia, it has only about 170k articles. The iKAT organizers have preprocessed the articles and created a passage collection for you to use. This collection is in a `jsonl` format. An example record from the collection is shown below:\n",
        "```\n",
        "{\n",
        "    \"id\": \"simplewiki:Ted%20Cassidy:0\",\n",
        "    \"contents\": \"Ted Cassidy (July 31, 1932 - January 16, 1979) was an American actor. He was best known for his roles as Lurch and Thing on \\\"The Addams Family\\\".\",\n",
        "    \"title\": \"Ted Cassidy\",\n",
        "    \"wiki_id\": \"9822\"\n",
        "}\n",
        "```\n",
        "Each record in this collection contains the following fields:\n",
        "- `id`: The passage id is a combination of (1) the string \"simplewiki:\", (2) the encoded title of the Wikipedia page, and (3) the passage number. This is similar to the iKAT 2023 passage id format (***doc_id:passage_number***)\n",
        "- `contents`: The text of the passage.\n",
        "- `title`: The title of the Wikipedia page to which this passage belongs.\n",
        "- `wiki_id`: The Wikipedia page ID of the Wikipedia page to which this passage belongs. These IDs are unique and will never change\n",
        "\n",
        "\n",
        "> **Note.** As this collection is a toy collection meant for demo purposes, the quality of results we obtain in this tutorial may be affected."
      ],
      "metadata": {
        "id": "jbS0bJHBBL1Y"
      }
    },
    {
      "cell_type": "code",
      "source": [
        "!pip install gdown"
      ],
      "metadata": {
        "id": "6NiVPnAKs67M"
      },
      "execution_count": null,
      "outputs": []
    },
    {
      "cell_type": "code",
      "source": [
        "!echo \"Creating target directory..\"\n",
        "!mkdir -p ikat_demo\n",
        "!mkdir -p ikat_demo/collection\n",
        "\n",
        "import gdown\n",
        "# The Google Drive file ID and the destination path\n",
        "url = 'https://drive.google.com/uc?id=1touBjwkPByH69utT9_sevr5nYT0TTZ2M'\n",
        "output = '/content/ikat_demo/collection/simplewiki-2020-11-01.passages.jsonl'\n",
        "gdown.download(url, output, quiet=False)\n",
        "\n",
        "url = 'https://drive.google.com/uc?id=1zPSiAqLmbx9QFGm6walnuMUl7xoJmRB7'\n",
        "output = '/content/ikat_demo/test.json'\n",
        "gdown.download(url, output, quiet=False)"
      ],
      "metadata": {
        "id": "lOBCjY-RtAAX"
      },
      "execution_count": null,
      "outputs": []
    },
    {
      "cell_type": "markdown",
      "source": [
        "# Creating a BM25 Index\n",
        "\n"
      ],
      "metadata": {
        "id": "Y7vg2AFMfA-0"
      }
    },
    {
      "cell_type": "markdown",
      "source": [
        "Now, we'll use the [Pyserini information retrieval toolkit](https://github.com/castorini/pyserini) to build a sparse index for the collection we just downloaded. Pyserini provides APIs for our indexing needs and supports both sparse and dense retrieval. Alternatively, you may also use [PyTerrier](https://github.com/terrier-org/pyterrier)."
      ],
      "metadata": {
        "id": "AHlVIIQJAoXI"
      }
    },
    {
      "cell_type": "markdown",
      "source": [
        "First, let's install Pyserini and its dependcies."
      ],
      "metadata": {
        "id": "3ZlmqAnLfyWL"
      }
    },
    {
      "cell_type": "code",
      "source": [
        "!pip install pyserini\n",
        "!pip install faiss-cpu"
      ],
      "metadata": {
        "id": "wuFbIRoGfjsT"
      },
      "execution_count": null,
      "outputs": []
    },
    {
      "cell_type": "markdown",
      "source": [
        "Pyserini provides ingestors for document collections in many different formats. The simplest, however, is the following JSON format:\n",
        "```\n",
        "{\n",
        "  \"id\": \"doc1\",\n",
        "  \"contents\": \"this is the contents.\"\n",
        "}\n",
        "```\n",
        "The collection to be used with Pyserini must be in a `jsonl` format, where each line is a `json` record structured as above.\n",
        "The preprocessed collection that we provide is already in this format (see example above)."
      ],
      "metadata": {
        "id": "ntAVBkZqgAJf"
      }
    },
    {
      "cell_type": "code",
      "source": [
        "!python -m pyserini.index.lucene \\\n",
        "  --collection JsonCollection \\\n",
        "  --input  '/content/ikat_demo/collection/' \\\n",
        "  --index '/content/ikat_demo/index' \\\n",
        "  --generator DefaultLuceneDocumentGenerator \\\n",
        "  --threads 8 \\\n",
        "  --storePositions --storeDocvectors --storeRaw"
      ],
      "metadata": {
        "id": "wUVFyEwrg5Fw"
      },
      "execution_count": null,
      "outputs": []
    },
    {
      "cell_type": "markdown",
      "source": [
        "To check that our new sparse index works, let's try searching with it. The code below loads the index and searches for the query `global warming`."
      ],
      "metadata": {
        "id": "5ElDiMW10bR1"
      }
    },
    {
      "cell_type": "code",
      "source": [
        "from pyserini.search.lucene import LuceneSearcher\n",
        "\n",
        "searcher = LuceneSearcher('ikat_demo/index')\n",
        "query = 'global warming'\n",
        "hits = searcher.search(query)\n",
        "\n",
        "for i in range(len(hits)):\n",
        "    print(f'{i+1:2} {hits[i].docid:4} {hits[i].score:.5f}')"
      ],
      "metadata": {
        "id": "nnsGeqhy0ScE"
      },
      "execution_count": null,
      "outputs": []
    },
    {
      "cell_type": "markdown",
      "source": [
        "Let's see the contents of the best ranking document."
      ],
      "metadata": {
        "id": "fnceAtYS1Bd9"
      }
    },
    {
      "cell_type": "code",
      "source": [
        "import json\n",
        "best_ranked_doc = searcher.doc(hits[0].docid)\n",
        "parsed_doc = json.loads(best_ranked_doc.raw())\n",
        "parsed_doc['contents']"
      ],
      "metadata": {
        "id": "QPMOxyoD1Fwx"
      },
      "execution_count": null,
      "outputs": []
    },
    {
      "cell_type": "markdown",
      "source": [
        "# Query Rewriting\n",
        "\n"
      ],
      "metadata": {
        "id": "ePena94b2ImD"
      }
    },
    {
      "cell_type": "markdown",
      "source": [
        "iKAT topics mimic real-world dialogue phenomena. As a result, utterances within topics become increasingly ambiguous as the topic unfolds. On their own, these utterances likely won't return good candidates from our index, so we need to reformulate them using information from prior turns in the topic.\n",
        "\n",
        "Let's examine the utterances in a topic to demonstrate the need for query rewriting. As an example, we will examine a segment from the iKAT 2023 test topic on \"Finding a diet\" conversation.\n",
        "\n",
        "```\n",
        "{\n",
        "    \"turn_id\": 1,\n",
        "    \"utterance\": \"Hey, Assistant! I am wondering what to cook for dinner tonight for my family.\",\n",
        "    \"resolved_utterance\": \"Hey, Assistant! I am wondering what to cook for dinner tonight for my family.\",\n",
        "    \"response\": \"Hey there! There are many healthy and delicious recipes you could try! For example, a stir-fry with lean proteins like chicken or tofu and a variety of colorful vegetables is always a good option. Or you could try making a Mediterranean quinoa salad with cucumbers, tomatoes, feta cheese, and a light lemon vinaigrette. Baked salmon with a side of roasted vegetables is also a great choice.\",\n",
        "},\n",
        "{\n",
        "    \"turn_id\": 2,\n",
        "    \"utterance\": \"Nah, we had salmon just two days ago. But the Mediterranean dish that you mentioned sounds interesting, could you provide the recipe for that?\",\n",
        "    \"resolved_utterance\": \"Nah, we had salmon just two days ago. But the Mediterranean quinoa salad sounds interesting, can you provide the recipe for the Mediterranean quinoa salad?\",\n",
        "    \"response\": \"Ah, I see. Of course! Here's a simple recipe for Mediterranean Quinoa Salad. The ingredients you need are 1 cup quinoa, 2 cups water, 1/4 cup extra-virgin olive oil, 2 limes, juiced, 2 teaspoons ground cumin, 1 teaspoon salt, 1/2 teaspoon red pepper flakes (optional), 1 1/2 cups halved cherry tomatoes, 1 cucumber, diced, 1/2 cup chopped fresh mint, 1/2 cup feta cheese. Instructions: Bring quinoa and water to a boil in a saucepan. Reduce heat to medium-low, cover, and simmer until quinoa is tender and water has been absorbed, 10 to 15 minutes. Set aside to cool. In a large bowl, whisk olive oil, lime juice, cumin, salt, and red pepper flakes together to create the dressing. In the bowl with the dressing, mix in quinoa, tomatoes, cucumber, and mint. Stir until well mixed. Top with feta cheese before serving. Enjoy!\"\n",
        "},\n",
        "{\n",
        "    \"turn_id\": 3,\n",
        "    \"utterance\": \"That's great, thanks! But I'm thinking of reducing the amount of oil in the dressing. Any suggestions?\",\n",
        "    \"resolved_utterance\": \"That's great, thanks! But I'm thinking of reducing the amount of oil in the salad dressing. Any suggestions?\",\n",
        "    \"response\": \"Certainly! You can reduce the amount of oil by using more lime juice or adding some water. Alternatively, you could substitute some of the oil with a different kind of liquid like vinegar. This should maintain a good balance between tartness and the need for oil as an emulsifier. Which of these do you think works the best for you?\"\n",
        "},\n",
        "{\n",
        "    \"turn_id\": 4,\n",
        "    \"utterance\": \"Thanks! My children don't like vinegar, so I would probably go with lime juice. Can I also use butter instead?\",\n",
        "    \"resolved_utterance\": \"Thanks! My children don't like vinegar, so I would probably go with lime juice. Can I also butter instead of oil in the Mediterranean Quinoa Salad?\",\n",
        "    \"response\": \"Butter can be substituted for vegetable oil in some dishes, but not always. Butter is a solid fat, while vegetable oil is liquid, so they have different effects on the consistency and texture of the food. Butter is also higher in calories and lower in trans fats than vegetable oil. If you want to use butter instead of vegetable oil, you may need to adjust the quantity, melt it down, and let it cool a bit. For example, 1 cup of butter equals 7/8 cup of vegetable oil.\"\n",
        "},\n",
        "{\n",
        "    \"turn_id\": 5,\n",
        "    \"utterance\": \"I see, thanks! What are some cheese substitutes?\",\n",
        "    \"resolved_utterance\": \"I see, thanks! What are some substitutes for cheese in the Mediterranean Quinoa Salad?\",\n",
        "    \"response\": \"I can suggest some alternatives for feta cheese. One option is to use a lower fat cheese like mozzarella. Another is to use a plant-based cheese substitute, if you're open to vegan options. You could also try adding a bit of nutritional yeast for a cheese-like flavor with less fat and more protein.\"\n",
        "},\n",
        "{\n",
        "    \"turn_id\": 6,\n",
        "    \"utterance\": \"Can you compare the first two?\",\n",
        "    \"resolved_utterance\": \"Can you compare mozzarella with plant-based cheese?\",\n",
        "    \"response\": \"Mozzarella cheese is a dairy product derived from milk and produced in a wide range of flavors. It comprises fat, usually from the milk of cows, buffalo, goats, or sheep. On the other hand, vegan cheese is a non-dairy, plant-based product. Vegan cheese is 100 percent animal-free cheese and is made using vegetable proteins. The ingredients of vegan cheese include soy, nuts, cashews, and vegetable oils (such as coconut oil). Vegan cheese is made using a process similar to traditional cheese making-without the animal milk. During the process, the plant proteins are separated using bacteria. Then the ingredients, such as oils and thickeners, are added to achieve the desired cheese-like consistency.\"\n",
        "},\n",
        "{\n",
        "    \"turn_id\": 7,\n",
        "    \"utterance\": \"Which of these is suitable for me?\",\n",
        "    \"resolved_utterance\": \"Which of mozzarella and vegan cheese is suitable for me?\",\n",
        "    \"response\": \"Based on the nutritional facts, mozzarella can be considered safe for lactose-intolerant people to eat, but be aware that the type of mozzarella you buy may not help reduce your symptoms. This is because many types of processed and packaged mozzarella also contain whey powder or casein - two other forms of dairy which are high in lactose. However, mozzarella has almost no lactose. Just one ounce of cheese provides around 0.3 grams of lactose. Vegan cheese is also a good alternative for lactose-intolerant people. Vegan cheeses are 100 percent animal-free and made using vegetable proteins. There are many different types of vegan cheese available, including vegan mozzarella. So, both mozzarella and vegan cheese can be suitable for lactose-intolerant people. It depends on your personal preference and dietary needs.\"\n",
        "},\n",
        "```\n"
      ],
      "metadata": {
        "id": "l2PgGq7TAcGF"
      }
    },
    {
      "cell_type": "markdown",
      "source": [
        "This topic starts with a question regarding selecting a diet. If we isolate `Turn 6` from the rest of the conversation and use it for search, we would likely get minimal, if any, results."
      ],
      "metadata": {
        "id": "XYN-wVmyeVZc"
      }
    },
    {
      "cell_type": "markdown",
      "source": [
        "Now, let's see how a query rewriter helps.\n",
        "\n",
        "We'll use a [`T5` query rewriter from `HuggingFace`](https://huggingface.co/castorini/t5-base-canard). It is finetuned on the [`CANARD` dataset](https://sites.google.com/view/qanta/projects/canard) but works effectively on iKAT queries."
      ],
      "metadata": {
        "id": "-Rwo5x0UAf2H"
      }
    },
    {
      "cell_type": "code",
      "source": [
        "# Load model and tokenizer from HuggingFace\n",
        "from transformers import AutoTokenizer, AutoModelForSeq2SeqLM\n",
        "import torch\n",
        "\n",
        "device = \"cuda\" if torch.cuda.is_available() else \"cpu\"\n",
        "rewriter = AutoModelForSeq2SeqLM.from_pretrained(\"castorini/t5-base-canard\").to(device).eval()\n",
        "rewriter_tokenizer = AutoTokenizer.from_pretrained(\"castorini/t5-base-canard\")"
      ],
      "metadata": {
        "id": "9Ea3d45D23rE"
      },
      "execution_count": 10,
      "outputs": []
    },
    {
      "cell_type": "markdown",
      "source": [
        " The model rewrites an utterance using that utterance and all previous utterances and system responses as input. The utterance and previous turn utterances and system responses should be separated by `|||` when building the input to the model.\n"
      ],
      "metadata": {
        "id": "EGnBL9qD6Fpy"
      }
    },
    {
      "cell_type": "markdown",
      "source": [
        "Let's read the `json` data file and load the turns."
      ],
      "metadata": {
        "id": "V5mlxYLG8gKl"
      }
    },
    {
      "cell_type": "code",
      "source": [
        "with open('/content/ikat_demo/test.json', 'r') as f:\n",
        "    topics = json.load(f)"
      ],
      "metadata": {
        "id": "qqE5fWCd8I0O"
      },
      "execution_count": 11,
      "outputs": []
    },
    {
      "cell_type": "markdown",
      "source": [
        "Next, we write a small function to extract the context."
      ],
      "metadata": {
        "id": "WJpofFhN60il"
      }
    },
    {
      "cell_type": "markdown",
      "source": [
        "The provided Python function, `extract_context`, extracts a sequence of utterances and responses up to a given `turn_id` from a JSON data structure. Here's a breakdown:\n",
        "\n",
        "1. **Purpose:**\n",
        "   - Extracts a series of utterances and responses up to a specified turn from a given JSON data based on the provided `number`.\n",
        "\n",
        "2. **Parameters:**\n",
        "   - `json_data`: A list of dictionaries, where each dictionary represents a conversation that has a unique number and contains a series of turns.\n",
        "   - `number`: The unique identifier for a specific conversation in the JSON data.\n",
        "   - `turn_id`: A specified turn up to which the utterances and responses will be extracted.\n",
        "\n",
        "3. **Process:**\n",
        "\n",
        "   a. Locate Conversation:\n",
        "      - Loops through the `json_data` to find the dictionary with the given `number`.\n",
        "\n",
        "   b. Error Handling:\n",
        "      - If no dictionary with the given `number` is found, it returns a message indicating so.\n",
        "\n",
        "   c. Extracting Text:\n",
        "      - Loops through the turns within the found conversation and appends the utterances and responses up to the `turn_id` to a list.\n",
        "\n",
        "   d. Context Formation:\n",
        "      - Concatenates the extracted utterances and responses using \"|||\" as a separator to form the context.\n",
        "\n",
        "4. **Output:**\n",
        "   - A tuple containing:\n",
        "     1. The current `utterance` for the provided `turn_id`.\n",
        "     2. The `context`, which is the sequence of utterances and responses up to the given `turn_id`, concatenated with \"|||\"."
      ],
      "metadata": {
        "id": "YnOyEqjQ64en"
      }
    },
    {
      "cell_type": "code",
      "source": [
        "def extract_context(json_data, number, turn_id):\n",
        "    # Find the correct dictionary with the given number\n",
        "    data = None\n",
        "    for item in json_data:\n",
        "        if item['number'] == number:\n",
        "            data = item\n",
        "            break\n",
        "\n",
        "    # If we couldn't find the data for the given number\n",
        "    if not data:\n",
        "      print(\"No data found for the given number.\")\n",
        "      return \"No data found for the given number.\", None\n",
        "\n",
        "    # Extract the utterance and response values\n",
        "    texts = []\n",
        "    current_utterance = \"\"\n",
        "    for turn in data['turns']:\n",
        "        if turn['turn_id'] < turn_id:\n",
        "            texts.append(turn['utterance'])\n",
        "            texts.append(turn['response'])\n",
        "        elif turn['turn_id'] == turn_id:\n",
        "            current_utterance = turn['utterance']\n",
        "            texts.append(current_utterance)\n",
        "\n",
        "    # Join the texts with \"|||\" separator\n",
        "    context = '|||'.join(texts)\n",
        "\n",
        "    return current_utterance, context"
      ],
      "metadata": {
        "id": "6e1PyZYL8Agq"
      },
      "execution_count": 12,
      "outputs": []
    },
    {
      "cell_type": "markdown",
      "source": [
        "Now we can use this function to extract the context for a given topic `number` and `turn_id` in the topic."
      ],
      "metadata": {
        "id": "DUPoaolD7DOz"
      }
    },
    {
      "cell_type": "code",
      "source": [
        "number_to_search = \"10-1\"\n",
        "turn_id_to_search = 6\n",
        "utterance, context = extract_context(topics, number_to_search, turn_id_to_search)\n",
        "print(f\"Raw Utterance: {utterance}\")\n",
        "print(f\"Turn Context: {context}\")"
      ],
      "metadata": {
        "id": "6Se_mtns-StZ",
        "colab": {
          "base_uri": "https://localhost:8080/"
        },
        "outputId": "d3c750c8-6442-41c1-d058-455c11ef2870"
      },
      "execution_count": 23,
      "outputs": [
        {
          "output_type": "stream",
          "name": "stdout",
          "text": [
            "Raw Utterance: Can you compare the first two?\n",
            "Turn Context: Hey, Assistant! I am wondering what to cook for dinner tonight for my family.|||Hey there! There are many healthy and delicious recipes you could try! For example, a stir-fry with lean proteins like chicken or tofu and a variety of colorful vegetables is always a good option. Or you could try making a Mediterranean quinoa salad with cucumbers, tomatoes, feta cheese, and a light lemon vinaigrette. Baked salmon with a side of roasted vegetables is also a great choice.|||Nah, we had salmon just two days ago. But the Mediterranean dish that you mentioned sounds interesting, could you provide the recipe for that?|||Ah, I see. Of course! Here's a simple recipe for Mediterranean Quinoa Salad. The ingredients you need are 1 cup quinoa, 2 cups water, 1/4 cup extra-virgin olive oil, 2 limes, juiced, 2 teaspoons ground cumin, 1 teaspoon salt, 1/2 teaspoon red pepper flakes (optional), 1 1/2 cups halved cherry tomatoes, 1 cucumber, diced, 1/2 cup chopped fresh mint, 1/2 cup feta cheese. Instructions: Bring quinoa and water to a boil in a saucepan. Reduce heat to medium-low, cover, and simmer until quinoa is tender and water has been absorbed, 10 to 15 minutes. Set aside to cool. In a large bowl, whisk olive oil, lime juice, cumin, salt, and red pepper flakes together to create the dressing. In the bowl with the dressing, mix in quinoa, tomatoes, cucumber, and mint. Stir until well mixed. Top with feta cheese before serving. Enjoy!|||That's great, thanks! But I'm thinking of reducing the amount of oil in the dressing. Any suggestions?|||Certainly! You can reduce the amount of oil by using more lime juice or adding some water. Alternatively, you could substitute some of the oil with a different kind of liquid like vinegar. This should maintain a good balance between tartness and the need for oil as an emulsifier. Which of these do you think works the best for you?|||Thanks! My children don't like vinegar, so I would probably go with lime juice. Can I also use butter instead?|||Butter can be substituted for vegetable oil in some dishes, but not always. Butter is a solid fat, while vegetable oil is liquid, so they have different effects on the consistency and texture of the food. Butter is also higher in calories and lower in trans fats than vegetable oil. If you want to use butter instead of vegetable oil, you may need to adjust the quantity, melt it down, and let it cool a bit. For example, 1 cup of butter equals 7/8 cup of vegetable oil.|||I see, thanks! What are some cheese substitutes?|||I can suggest some alternatives for feta cheese. One option is to use a lower fat cheese like mozzarella. Another is to use a plant-based cheese substitute, if you're open to vegan options. You could also try adding a bit of nutritional yeast for a cheese-like flavor with less fat and more protein.|||Can you compare the first two?\n"
          ]
        }
      ]
    },
    {
      "cell_type": "markdown",
      "source": [
        "> **NOTE:** When building context this way, there's a risk that the input can become too lengthy for subsequent interactions, especially in extended discussions. For handling this, you can experiment with various context truncation methods. A straightforward strategy is to eliminate earlier turn utterances and responses if the input size surpasses the model's token limit."
      ],
      "metadata": {
        "id": "MY7Z-K7ruqQo"
      }
    },
    {
      "cell_type": "markdown",
      "source": [
        "Now, let's rewrite the query using our model."
      ],
      "metadata": {
        "id": "AjAgQJUTvN6l"
      }
    },
    {
      "cell_type": "code",
      "source": [
        "def rewrite_query(context: str, model, tokenizer, device) -> str:\n",
        "  tokenized_context = tokenizer.encode(context, return_tensors=\"pt\").to(device)\n",
        "  output_ids = model.generate(\n",
        "      tokenized_context,\n",
        "      max_length=200,\n",
        "      num_beams=4,\n",
        "      repetition_penalty=2.5,\n",
        "      length_penalty=1.0,\n",
        "      early_stopping=True\n",
        "  ).to(device)\n",
        "\n",
        "  rewrite = tokenizer.decode(output_ids[0], skip_special_tokens=True)\n",
        "  return rewrite"
      ],
      "metadata": {
        "id": "V1h1oO28vkr6"
      },
      "execution_count": 14,
      "outputs": []
    },
    {
      "cell_type": "code",
      "source": [
        "rewrite = rewrite_query(context, rewriter, rewriter_tokenizer, device)\n",
        "print(f\"Raw Utterance: {utterance}\")\n",
        "print(f\"Query Rewrite: {rewrite}\")"
      ],
      "metadata": {
        "id": "Co6GPvK1vyzc"
      },
      "execution_count": null,
      "outputs": []
    },
    {
      "cell_type": "markdown",
      "source": [
        "Hmm, that didn't really help! 😞 The rewriter did expand the query but with the wrong information!"
      ],
      "metadata": {
        "id": "divqNLNK_i0M"
      }
    },
    {
      "cell_type": "markdown",
      "source": [
        "# Expanding the context using relevant PTKB statements\n",
        "\n"
      ],
      "metadata": {
        "id": "mzJAqxJtzQMV"
      }
    },
    {
      "cell_type": "markdown",
      "source": [
        "One major difference between iKAT and CAsT is the presence of the Personal Text Knowledge Base (PTKB). In the first year, we are providing the PTKB as a dictionary of statements about the user. Each PTKB defines a user's profile and controls how the system should respond to the user. For the example conversation above, the PTKB, as provided in the test data, is as below.\n",
        "```\n",
        "{\n",
        "    \"1\": \"I want to know about healthy cooking techniques.\",\n",
        "    \"2\": \"I am lactose intolerant.\",\n",
        "    \"3\": \"I'm looking for a speaker set to match my TV.\",\n",
        "    \"4\": \"I'm willing to drive a long distance to find a cheaper TV.\",\n",
        "    \"5\": \"I'm hoping to find some offers and discounts for TV.\",\n",
        "    \"6\": \"I like to eat fruits and vegetables.\",\n",
        "    \"7\": \"I don't read much.\",\n",
        "    \"8\": \"I want to cook healthy and tasty recipes for my family.\",\n",
        "    \"9\": \"I am on a diet and prefer low-calorie food.\",\n",
        "    \"10\": \"I want to know about the nutritional value of the ingredients I use.\",\n",
        "    \"11\": \"I'm looking for a new TV to replace my current one.\",\n",
        "    \"12\": \"I want a TV that is okay for light and size of my living room.\"\n",
        "},\n",
        "```\n",
        "Above, we re-wrote the query using the context. But for a more persoanlized conversation, one approach to query rewriting could be to use the PTKB statements in the query reformulation process.\n",
        "\n",
        "To incorporate the PTKB into the system, we must answer two questions:\n",
        "\n",
        "1. What are the relevant PTKB statements for the current turn?\n",
        "2. How do we use these relevant PTKB statements?\n",
        "\n"
      ],
      "metadata": {
        "id": "m1vPS_S3CIkp"
      }
    },
    {
      "cell_type": "markdown",
      "source": [
        "### **Question 1: What are the relevant PTKB statements for the current turn?**\n",
        "\n"
      ],
      "metadata": {
        "id": "C8Ygjld92DYu"
      }
    },
    {
      "cell_type": "markdown",
      "source": [
        "In a `manual` run, you may use the `ptkb_provenance` fields. This field was manually populated by the iKAT topic developers and provides a straightforward way to identify relevant PTKB statements for the given turn utterance. However, a more difficult (and perhaps interesting) exercise is to automatically identify relevant PTKB statements for the given turn."
      ],
      "metadata": {
        "id": "KOhyeUPhCMS1"
      }
    },
    {
      "cell_type": "markdown",
      "source": [
        "One easy-to-implement (and probably good) solution is to use `BERT` embeddings. Specifially, we can use `SentenceTransformers`\n",
        "\n",
        "[`SentenceTransformers`](https://www.sbert.net/index.html) is a Python framework designed for sentence, text, and image embeddings. the foundational work on this was presented in the paper titled [Sentence-BERT: Sentence Embeddings using Siamese BERT-Networks](https://arxiv.org/abs/1908.10084).\n",
        "\n",
        "This tool enables computation of sentence and text embeddings in over 100 languages. You can then use cosine similarity, for instance, to identify sentences of similar meanings. It's particularly valuable for semantic text similarity, semantic searching, and paraphrase detection.\n",
        "\n",
        "Built on [PyTorch](https://pytorch.org/) and [Transformers](https://huggingface.co/docs/transformers/index), the framework boasts a vast array of pre-trained models optimized for diverse tasks. Moreover, fine-tuning your models is a breeze."
      ],
      "metadata": {
        "id": "koYMocDe3KEi"
      }
    },
    {
      "cell_type": "markdown",
      "source": [
        "We are going to use the `CrossEncoder` model from `SentenceTransformers` to identify the relevant PTKB statements. Specifically, we are going to **re-rank** the PTKB statements based on the current utterance.\n",
        "\n",
        "A `CrossEncoder`-based re-ranker can significantly enhance the end results for users. In this approach, both the query and a potential document are fed into the transformer network concurrently. The network then produces a score between 0 and 1, signifying the document's relevance to the query.\n",
        "\n",
        "The strength of a `CrossEncoder` lies in its superior performance, stemming from its ability to execute attention operations across both the query and the document.\n",
        "\n",
        "We will use [`cross-encoder/ms-marco-MiniLM-L-6-v2`](https://huggingface.co/cross-encoder/ms-marco-MiniLM-L-6-v2) model from HuggingFace that scores the query and all retrieved passages for their relevancy.\n",
        "\n",
        "For a complete introduction to using cross encoders and retrieval and reranking, [see this notebook](https://github.com/UKPLab/sentence-transformers/blob/master/examples/applications/retrieve_rerank/retrieve_rerank_simple_wikipedia.ipynb)."
      ],
      "metadata": {
        "id": "-ferC9PF4jFX"
      }
    },
    {
      "cell_type": "markdown",
      "source": [
        "First, we need to install the `SentenceTransformers` library"
      ],
      "metadata": {
        "id": "48PPruyl5mYv"
      }
    },
    {
      "cell_type": "code",
      "source": [
        "!pip install sentence-transformers"
      ],
      "metadata": {
        "id": "FLY2WAlQ5q1c"
      },
      "execution_count": null,
      "outputs": []
    },
    {
      "cell_type": "markdown",
      "source": [
        "Next, we write a small function that will rerank the PTKB statements for the given query."
      ],
      "metadata": {
        "id": "kBmOCzui6Vlg"
      }
    },
    {
      "cell_type": "markdown",
      "source": [
        "The provided Python function, `get_ptkb_statements`, compares statements from the PTKB with a query to determine their similarity. Here's a step-by-step explanation of the function:\n",
        "\n",
        "1. **Purpose:**\n",
        "   - The function aims to return the top `num_ptkb` statements from the PTKB that are most similar to the given `query`.\n",
        "\n",
        "2. **Parameters:**\n",
        "   - `query`: The user's input or question.\n",
        "   - `num_ptkb`: The number of PTKB statements to return.\n",
        "   - `ptkb`: A dictionary of the PTKB statements.\n",
        "   - `reranker`: A model that predicts the similarity score between two texts.\n",
        "\n",
        "3. **Process:**\n",
        "   \n",
        "   a. Calculate Similarity Scores:\n",
        "      - For each statement in the PTKB, it computes a similarity score with the `query` using the `reranker`. The score is between 0 and 1, with 1 being highly similar.\n",
        "\n",
        "   b. Pair Statements with Scores:\n",
        "      - The statements from the PTKB are paired with their respective similarity scores.\n",
        "\n",
        "   c. Sort Pairs:\n",
        "      - The pairs are then sorted in descending order based on their similarity scores.\n",
        "\n",
        "   d. Extract Statements:\n",
        "      - From the sorted pairs, the actual statements are extracted.\n",
        "\n",
        "   e. Return Top Statements:\n",
        "      - The top `num_ptkb` statements are then concatenated into a single string and returned.\n",
        "\n",
        "4. **Output:**\n",
        "   - A string containing the top `num_ptkb` statements from the PTKB that are most similar to the given `query`, separated by spaces."
      ],
      "metadata": {
        "id": "7NGqUQRj6bSq"
      }
    },
    {
      "cell_type": "code",
      "source": [
        "def get_ptkb_statements(query, num_ptkb, ptkb, reranker):\n",
        "    # Find the similarity of PTKB statements with the given query\n",
        "    similarity_scores = [reranker.predict([[query, ptkb_statement]])[0] for ptkb_statement in ptkb.values()]\n",
        "\n",
        "    # Pair each statement with its similarity score\n",
        "    statement_score_pairs = list(zip(list(ptkb.values()), similarity_scores))\n",
        "\n",
        "    # Sort the pairs based on the similarity scores in descending order\n",
        "    sorted_pairs = sorted(statement_score_pairs, key=lambda x: x[1], reverse=True)\n",
        "\n",
        "    # Extract the sorted responses\n",
        "    sorted_ptkb_statements = [pair[0] for pair in sorted_pairs]\n",
        "\n",
        "    # Return required number of PTKB statements\n",
        "    return ' '.join(sorted_ptkb_statements[:num_ptkb])"
      ],
      "metadata": {
        "id": "ssRYms-b3HWw"
      },
      "execution_count": 18,
      "outputs": []
    },
    {
      "cell_type": "markdown",
      "source": [
        "Now, let's use this function to find the top relevant PTKB statements for a given turn."
      ],
      "metadata": {
        "id": "8iJfuQiz7Tu1"
      }
    },
    {
      "cell_type": "code",
      "source": [
        "query = \"Can you compare the first two?\"\n",
        "ptkb = {\n",
        "    \"1\": \"I want to know about healthy cooking techniques.\",\n",
        "    \"2\": \"I am lactose intolerant.\",\n",
        "    \"3\": \"I'm looking for a speaker set to match my TV.\",\n",
        "    \"4\": \"I'm willing to drive a long distance to find a cheaper TV.\",\n",
        "    \"5\": \"I'm hoping to find some offers and discounts for TV.\",\n",
        "    \"6\": \"I like to eat fruits and vegetables.\",\n",
        "    \"7\": \"I don't read much.\",\n",
        "    \"8\": \"I want to cook healthy and tasty recipes for my family.\",\n",
        "    \"9\": \"I am on a diet and prefer low-calorie food.\",\n",
        "    \"10\": \"I want to know about the nutritional value of the ingredients I use.\",\n",
        "    \"11\": \"I'm looking for a new TV to replace my current one.\",\n",
        "    \"12\": \"I want a TV that is okay for light and size of my living room.\"\n",
        "}\n",
        "num_ptkb = 3"
      ],
      "metadata": {
        "id": "ggsW5QyD7r3Y"
      },
      "execution_count": 31,
      "outputs": []
    },
    {
      "cell_type": "code",
      "source": [
        "from sentence_transformers import CrossEncoder\n",
        "reranker = CrossEncoder('cross-encoder/ms-marco-MiniLM-L-6-v2')\n",
        "ptkb_statements = get_ptkb_statements(query, num_ptkb, ptkb, reranker)\n",
        "ptkb_statements"
      ],
      "metadata": {
        "id": "O-Aon1i18GEW"
      },
      "execution_count": null,
      "outputs": []
    },
    {
      "cell_type": "markdown",
      "source": [
        "### **Question 2: How do we use these relevant PTKB statements?**"
      ],
      "metadata": {
        "id": "__dASF769hoH"
      }
    },
    {
      "cell_type": "markdown",
      "source": [
        "One possible way of using these relevant PTKB statements is to include them in the context when re-writing the query."
      ],
      "metadata": {
        "id": "EuElB0oc9siw"
      }
    },
    {
      "cell_type": "markdown",
      "source": [
        "Let's see how that works. We will modify out previous function `extract_context` a little to include the relevant PTKB statements."
      ],
      "metadata": {
        "id": "Rv2AaLc392bc"
      }
    },
    {
      "cell_type": "code",
      "source": [
        "def extract_context_with_ptkb_statements(json_data, number, turn_id, ptkb_statements):\n",
        "    # Find the correct dictionary with the given number\n",
        "    data = None\n",
        "    for item in json_data:\n",
        "        if item['number'] == number:\n",
        "            data = item\n",
        "            break\n",
        "\n",
        "    # If we couldn't find the data for the given number\n",
        "    if not data:\n",
        "        print(\"No data found for the given number.\")\n",
        "        return \"No data found for the given number.\"\n",
        "\n",
        "    # Extract the utterance and response values\n",
        "    texts = [ptkb_statements]\n",
        "    current_utterance = \"\"\n",
        "    for turn in data['turns']:\n",
        "        if turn['turn_id'] < turn_id:\n",
        "            texts.append(turn['utterance'])\n",
        "            texts.append(turn['response'])\n",
        "        elif turn['turn_id'] == turn_id:\n",
        "            current_utterance = turn['utterance']\n",
        "            texts.append(current_utterance)\n",
        "\n",
        "    # Join the texts with \"|||\" separator\n",
        "    context = '|||'.join(texts)\n",
        "\n",
        "    return current_utterance, context"
      ],
      "metadata": {
        "id": "d7_XT11b-G2V"
      },
      "execution_count": 33,
      "outputs": []
    },
    {
      "cell_type": "code",
      "source": [
        "number_to_search = \"10-1\"\n",
        "turn_id_to_search = 6\n",
        "utterance, context = extract_context_with_ptkb_statements(topics, number_to_search, turn_id_to_search, ptkb_statements)\n",
        "print(f\"Raw Utterance: {utterance}\")\n",
        "print(f\"Turn Context: {context}\")"
      ],
      "metadata": {
        "id": "HcMi86HK9-9o"
      },
      "execution_count": null,
      "outputs": []
    },
    {
      "cell_type": "code",
      "source": [
        "rewrite = rewrite_query(context, rewriter, rewriter_tokenizer, device)\n",
        "print(f\"Query Rewrite: {rewrite}\")"
      ],
      "metadata": {
        "id": "cJQtL9nP-xuI"
      },
      "execution_count": null,
      "outputs": []
    },
    {
      "cell_type": "markdown",
      "source": [
        "That didn't help either! 😞\n",
        "\n",
        "This is a really difficult query for the system! We are excited 🤩 to see how **your** system handles such queries."
      ],
      "metadata": {
        "id": "q4YEiKLN-2iQ"
      }
    },
    {
      "cell_type": "markdown",
      "source": [
        "Alternatively, we can also append the PTKB statements to the rewritten query (without PTKB statements)."
      ],
      "metadata": {
        "id": "md0NuYI5_Q_2"
      }
    },
    {
      "cell_type": "markdown",
      "source": [
        "# Passage Retrieval and Reranking"
      ],
      "metadata": {
        "id": "VdlqNgdEANAI"
      }
    },
    {
      "cell_type": "markdown",
      "source": [
        "In iKAT 2023, we provide several tasks, [see the guidelines](https://www.trecikat.com/guidelines/) section of the webpage for more details.\n",
        "\n",
        "One core task in iKAT 2023 involves producing a ranked list of relevant passages corresponding to a specific user utterance. During the ***Passage Retrieval*** phase, we employ the rephrased query (either manually or automatically adjusted) to fetch a potential set of passages from the previously generated sparse index.\n",
        "\n",
        "The *retrieve-then-rerank* approach is a widely adopted strategy in Information Retrieval systems, aimed at enhancing the quality of the preliminary set of candidates. The process commences with a swift and effective retrieval method to fetch the initial set of passages. One prevalent method for this is BM25. However, there's also the option of adopting dense retrieval methods like Bi-encoders. For a comprehensive understanding of utilizing bi-encoders in retrieval, consider checking [this guide](https://www.sbert.net/examples/applications/retrieve_rerank/README.html).\n",
        "\n",
        "Subsequent to this initial retrieval, the candidate set undergoes a reranking process, leveraging more advanced methods. An example would be rerankers rooted in BERT, known as cross-encoders. In this tutorial, we'll specifically employ the `CrossEncoder` from the `SentenceTransformers` library.\n",
        "\n"
      ],
      "metadata": {
        "id": "uyxPypC2BpJm"
      }
    },
    {
      "cell_type": "markdown",
      "source": [
        "## Step-1: Retrieval using BM25"
      ],
      "metadata": {
        "id": "g8iCztIxFpnU"
      }
    },
    {
      "cell_type": "markdown",
      "source": [
        "We will first retrieve a candidate set of passages from our index using BM25. As query, we will use the manually resolved utterance from `turn_id=9` in the example shown above."
      ],
      "metadata": {
        "id": "STe9w5xuFzLk"
      }
    },
    {
      "cell_type": "code",
      "source": [
        "def retrieve_using_bm25(query):\n",
        "    hits = searcher.search(query)\n",
        "    candidate_set = []\n",
        "    for i in range(len(hits)):\n",
        "        print('Rank: {} | PassageID: {} | Score: {}'.format(i+1, hits[i].docid, hits[i].score))\n",
        "        doc = searcher.doc(hits[i].docid)\n",
        "        parsed_doc = json.loads(doc.raw())\n",
        "        print(parsed_doc['contents'])\n",
        "        candidate_set.append({\n",
        "            'passage_id': hits[i].docid,\n",
        "            'bm25_rank': i+1,\n",
        "            'bm25_score': hits[i].score,\n",
        "            'passage_text': parsed_doc['contents']\n",
        "        })\n",
        "        print('=================================')\n",
        "    return candidate_set"
      ],
      "metadata": {
        "id": "VOeiE7kpK_UD"
      },
      "execution_count": 36,
      "outputs": []
    },
    {
      "cell_type": "markdown",
      "source": [
        "## Step-2: Rerank using CrossEncoder"
      ],
      "metadata": {
        "id": "WH272cycRjcU"
      }
    },
    {
      "cell_type": "markdown",
      "source": [
        "Next, we will rerank this candidate set using the `CrossEncoder` defined earlier."
      ],
      "metadata": {
        "id": "BZGsIVSoKmYR"
      }
    },
    {
      "cell_type": "code",
      "source": [
        "def rerank_passages(query, passages, reranker):\n",
        "    res = []\n",
        "    query_passage_pairs = [[query, passage['passage_text']] for passage in passages]\n",
        "    scores = reranker.predict(query_passage_pairs)\n",
        "\n",
        "    for passage, score in zip(passages, scores):\n",
        "        passage['reranker_score'] = score\n",
        "        res.append(passage)\n",
        "\n",
        "    ranked_passages = sorted(passages, key=lambda x: x['reranker_score'], reverse=True)\n",
        "    return ranked_passages"
      ],
      "metadata": {
        "id": "IJeQnEnyGEAX"
      },
      "execution_count": 37,
      "outputs": []
    },
    {
      "cell_type": "code",
      "source": [
        "query = \"Can you compare mozzarella with plant-based cheese?\"\n",
        "candidate_set = retrieve_using_bm25(query)"
      ],
      "metadata": {
        "id": "sAI6nWx3LSGp"
      },
      "execution_count": null,
      "outputs": []
    },
    {
      "cell_type": "code",
      "source": [
        "import numpy as np\n",
        "reranked_passages = rerank_passages(query, candidate_set, reranker)\n",
        "print(json.dumps(reranked_passages, indent=4, default=lambda o: float(o) if isinstance(o, np.float32) else o))"
      ],
      "metadata": {
        "id": "lysXk_vDKwuE"
      },
      "execution_count": null,
      "outputs": []
    },
    {
      "cell_type": "markdown",
      "source": [
        "These results are not great. An important thing to note here is that we are doing retrieval over a very small corpus of `SimpleEnglishWikipedia`. As mentioned earlier, the results may not be of high quality."
      ],
      "metadata": {
        "id": "SyKfFVXOMrr7"
      }
    },
    {
      "cell_type": "markdown",
      "source": [
        "# Response Generation"
      ],
      "metadata": {
        "id": "HchYIxFvNAeQ"
      }
    },
    {
      "cell_type": "markdown",
      "source": [
        "One of the tasks in iKAT 2023 is response generation. After retrieval, the system should use the top-K passages to generate a short response (250 words or less) that is appropriate for an interactive conversational agent to give to the user."
      ],
      "metadata": {
        "id": "S6Ri2BDXNCwF"
      }
    },
    {
      "cell_type": "markdown",
      "source": [
        "Let's explore one way this can be done, by framing the task as a summarisation problem. We will use the `T5` model for this purpose. Specifically, we will use the `mrm8488/t5-base-finetuned-summarize-news` model from HuggingFace.\n",
        "\n",
        "The [`mrm8488/t5-base-finetuned-summarize-news`](https://huggingface.co/mrm8488/t5-base-finetuned-summarize-news) is Google's `T5-base` model fine-tuned on the [News Summary dataset](https://www.kaggle.com/datasets/sunnysai12345/news-summary) for the downstream task of summarization."
      ],
      "metadata": {
        "id": "hLUa72oWNl_e"
      }
    },
    {
      "cell_type": "markdown",
      "source": [
        "First, we will write a short function for this task.\n",
        "\n",
        "The `generate_response` function is described below:\n",
        "\n",
        "1. **Purpose:** Generates a summarized response based on the top passages from a set of documents returned by a search operation.\n",
        "\n",
        "2. **Parameters:**\n",
        "\n",
        "    - `passages`: A set of top documents or hits returned by the search operation.\n",
        "    - `model`: An instance of a pre-trained sequence-to-sequence language model (from the `AutoModelForSeq2SeqLM` class) for generating summaries.\n",
        "    - `tokenizer`: An instance of a tokenizer (from the `AutoTokenizer` class) used to tokenize and decode text.\n",
        "\n",
        "3. **Process:**\n",
        "\n",
        "    a. **Consolidating Passages**: Combines all the extracted passages into one continuous string.\n",
        "\n",
        "    b. **Tokenization and Input Formation**: Tokenizes the combined text and pre-processes it by adding a \"summarize: \" prefix. The tokenized input is adjusted to not exceed a specified maximum length (512 tokens) and is moved to the desired computation device.\n",
        "\n",
        "    c. **Generating Summary**: Utilizes the sequence-to-sequence language model to generate a summarized response based on the input. Applies various parameters to control and improve the quality of the output summary.\n",
        "\n",
        "    d. **Decoding the Summary**: Transforms the token IDs from the generated summary back into human-readable text, ensuring any special tokens are omitted.\n",
        "\n",
        "4. **Output:** Returns a coherent and summarized text derived from the top passages of the documents."
      ],
      "metadata": {
        "id": "FMP_1q7oOfH8"
      }
    },
    {
      "cell_type": "code",
      "source": [
        "def generate_response(passages, model, tokenizer):\n",
        "    text = ' '.join(passages)\n",
        "    inputs = tokenizer.encode(\"summarize: \" + text, return_tensors=\"pt\", max_length=512, truncation=True)\n",
        "    with torch.no_grad():\n",
        "        summary_ids = model.generate(\n",
        "            inputs,\n",
        "            max_length=250,\n",
        "            min_length=50,\n",
        "            length_penalty=2.0,\n",
        "            num_beams=4,\n",
        "            early_stopping=True\n",
        "        )\n",
        "    summary = tokenizer.decode(summary_ids[0], skip_special_tokens=True)\n",
        "    return summary"
      ],
      "metadata": {
        "id": "bj1RWGAOOkI6"
      },
      "execution_count": 41,
      "outputs": []
    },
    {
      "cell_type": "code",
      "source": [
        "summarizer = AutoModelForSeq2SeqLM.from_pretrained('mrm8488/t5-base-finetuned-summarize-news')\n",
        "summarizer_tokenizer = AutoTokenizer.from_pretrained('mrm8488/t5-base-finetuned-summarize-news')"
      ],
      "metadata": {
        "id": "DhMPOTXHP7Hf"
      },
      "execution_count": null,
      "outputs": []
    },
    {
      "cell_type": "code",
      "source": [
        "# We use the top-3 reranked passages to generate a response\n",
        "passages = [passage['passage_text'] for passage in reranked_passages][:3]\n",
        "print(json.dumps(passages, indent=4))"
      ],
      "metadata": {
        "id": "RdokkjjlPsmj"
      },
      "execution_count": null,
      "outputs": []
    },
    {
      "cell_type": "code",
      "source": [
        "generate_response(passages, summarizer, summarizer_tokenizer)"
      ],
      "metadata": {
        "id": "RP91qIrMQyT2"
      },
      "execution_count": null,
      "outputs": []
    }
  ]
}